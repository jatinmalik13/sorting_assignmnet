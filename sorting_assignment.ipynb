{
 "cells": [
  {
   "cell_type": "code",
   "execution_count": 2,
   "id": "c47a2573-5251-4704-9850-3057dcfe473c",
   "metadata": {},
   "outputs": [
    {
     "name": "stdout",
     "output_type": "stream",
     "text": [
      "Element appearing maximum number of times: 3\n"
     ]
    }
   ],
   "source": [
    "''' Problem 1.Given an array of n numbers, give an algorithm which gives the element appearing maximum\n",
    "number of times?'''\n",
    "\n",
    "# ans\n",
    "\n",
    "def find_maximum_occurrence_element(arr):\n",
    "  \n",
    "    frequency_map = {}\n",
    "    \n",
    "   \n",
    "    for element in arr:\n",
    "        if element in frequency_map:\n",
    "            frequency_map[element] += 1\n",
    "        else:\n",
    "            frequency_map[element] = 1\n",
    "    \n",
    "   \n",
    "    max_count = 0\n",
    "    max_element = None\n",
    "    for element, count in frequency_map.items():\n",
    "        if count > max_count:\n",
    "            max_count = count\n",
    "            max_element = element\n",
    "    \n",
    "    return max_element\n",
    "\n",
    "\n",
    "arr = [1, 3, 2, 1, 2, 1, 3, 3, 3]\n",
    "result = find_maximum_occurrence_element(arr)\n",
    "print(\"Element appearing maximum number of times:\", result)\n"
   ]
  },
  {
   "cell_type": "code",
   "execution_count": 8,
   "id": "5f1eb8cc-9183-45a3-8384-210a7f79e202",
   "metadata": {},
   "outputs": [
    {
     "name": "stdout",
     "output_type": "stream",
     "text": [
      "The missing number is: 5\n"
     ]
    },
    {
     "data": {
      "text/plain": [
       "'\\nComplexity:\\nTime Complexity: O(n), where n is the number of elements in the list. This is because summing the elements in the list takes linear time.\\nSpace Complexity: O(1), as we are only using a few additional variables.\\nThis approach is efficient and straightforward, taking advantage of simple arithmetic operations to find the missing number.'"
      ]
     },
     "execution_count": 8,
     "metadata": {},
     "output_type": "execute_result"
    }
   ],
   "source": [
    "''' Problem 2 : We are given a list of n-1 integers and these integers are in the range of 1 to n . There are no\n",
    "duplicates in the list. One of the integers is missing in the list. Give an algorithm to find that element Ex:\n",
    "[1,2,4,6,3,7,8] 5 is the missing num.'''\n",
    "\n",
    "# ans--> \n",
    "\n",
    "def find_missing_number(arr, n):\n",
    "    \n",
    "    expected_sum = n * (n + 1) // 2\n",
    "    \n",
    "   \n",
    "    actual_sum = sum(arr)\n",
    "    \n",
    "   \n",
    "    missing_number = expected_sum - actual_sum\n",
    "    \n",
    "    return missing_number\n",
    "\n",
    "\n",
    "arr = [1, 2, 4, 6, 3, 7, 8]\n",
    "n = 8  \n",
    "missing_number = find_missing_number(arr, n)\n",
    "print(\"The missing number is:\", missing_number)\n",
    "\n",
    "\n",
    "'''\n",
    "Complexity:\n",
    "Time Complexity: O(n), where n is the number of elements in the list. This is because summing the elements in the list takes linear time.\n",
    "Space Complexity: O(1), as we are only using a few additional variables.\n",
    "This approach is efficient and straightforward, taking advantage of simple arithmetic operations to find the missing number.'''"
   ]
  },
  {
   "cell_type": "code",
   "execution_count": 10,
   "id": "c233083d-7220-4655-9f0c-632630bf2b66",
   "metadata": {},
   "outputs": [
    {
     "name": "stdout",
     "output_type": "stream",
     "text": [
      "The number that occurs odd number of times is: 3\n"
     ]
    }
   ],
   "source": [
    "'''' Problem 3 : Given an array of n positive numbers. All numbers occurs even number of times except 1 which\n",
    "occurs odd number of times. Find that number in O(n) time and O(1) space. Ex: [1,2,3,2,3,1,3]. 3 is repeats odd\n",
    "times.'''\n",
    "\n",
    "# ans\n",
    "\n",
    "def find_odd_occurrence(arr):\n",
    "    result = 0\n",
    "    for number in arr:\n",
    "        result ^= number\n",
    "    return result\n",
    "\n",
    "\n",
    "arr = [1, 2, 3, 2, 3, 1, 3]\n",
    "odd_occurrence_number = find_odd_occurrence(arr)\n",
    "print(\"The number that occurs odd number of times is:\", odd_occurrence_number)\n"
   ]
  },
  {
   "cell_type": "code",
   "execution_count": 12,
   "id": "090a534a-acf3-4ab5-8cf9-b2ce621c073b",
   "metadata": {},
   "outputs": [
    {
     "name": "stdout",
     "output_type": "stream",
     "text": [
      "The pair with sum 7 is: (4, 3)\n"
     ]
    }
   ],
   "source": [
    "''' Problem 4 : Given an array of n elements. Find two elements in the array such that their sum is equal to given\n",
    "element K.'''\n",
    "\n",
    "# ans \n",
    "\n",
    "\n",
    "def find_pair_with_sum(arr, K):\n",
    "    seen = set()\n",
    "    \n",
    "    for number in arr:\n",
    "        complement = K - number\n",
    "        if complement in seen:\n",
    "            return (complement, number)\n",
    "        seen.add(number)\n",
    "    \n",
    "    return None  \n",
    "\n",
    "\n",
    "arr = [1, 4, 5, 3, 2]\n",
    "K = 7\n",
    "pair = find_pair_with_sum(arr, K)\n",
    "if pair:\n",
    "    print(f\"The pair with sum {K} is: {pair}\")\n",
    "else:\n",
    "    print(f\"No pair with sum {K} found.\")\n",
    "\n"
   ]
  },
  {
   "cell_type": "code",
   "execution_count": 13,
   "id": "e09105c2-6a76-4453-848e-846dfc119ed1",
   "metadata": {},
   "outputs": [
    {
     "name": "stdout",
     "output_type": "stream",
     "text": [
      "The pair with the sum closest to zero is: (-80, 85)\n"
     ]
    }
   ],
   "source": [
    "'''Problem 5 : Given an array of both positive and negative numbers, find two numbers such that their sum is\n",
    "closest to 0. Ex: [ 1 ,60 ,-10, 70, -80,85]. '''\n",
    "\n",
    "# ans \n",
    "\n",
    "def find_closest_sum_pair(arr):\n",
    "   \n",
    "    arr.sort()\n",
    "    \n",
    "   \n",
    "    left = 0\n",
    "    right = len(arr) - 1\n",
    "    \n",
    "    \n",
    "    closest_pair = (arr[left], arr[right])\n",
    "    min_diff = float('inf')\n",
    "    \n",
    "    \n",
    "    while left < right:\n",
    "        current_sum = arr[left] + arr[right]\n",
    "        \n",
    "        \n",
    "        if abs(current_sum) < min_diff:\n",
    "            min_diff = abs(current_sum)\n",
    "            closest_pair = (arr[left], arr[right])\n",
    "        \n",
    "        # \n",
    "        if current_sum < 0:\n",
    "            left += 1\n",
    "        elif current_sum > 0:\n",
    "            right -= 1\n",
    "        else:\n",
    "          \n",
    "            break\n",
    "    \n",
    "    return closest_pair\n",
    "\n",
    "\n",
    "arr = [1, 60, -10, 70, -80, 85]\n",
    "pair = find_closest_sum_pair(arr)\n",
    "print(f\"The pair with the sum closest to zero is: {pair}\")\n"
   ]
  },
  {
   "cell_type": "code",
   "execution_count": 14,
   "id": "b828441c-252c-4934-b93d-06a58cf0a994",
   "metadata": {},
   "outputs": [
    {
     "name": "stdout",
     "output_type": "stream",
     "text": [
      "Triplets with sum equal to 6 are: [(-1, 2, 5), (-1, 3, 4), (0, 1, 5), (0, 2, 4), (1, 2, 3)]\n"
     ]
    }
   ],
   "source": [
    "'''Problem 6 : Given an array of n elements . Find three elements such that their sum is equal to the given\n",
    "number. '''\n",
    "\n",
    "# ans \n",
    "\n",
    "def find_triplets_with_sum(arr, K):\n",
    "    arr.sort()  \n",
    "    n = len(arr)\n",
    "    result = []\n",
    "    \n",
    "    \n",
    "    for i in range(n - 2):\n",
    "        \n",
    "        left = i + 1\n",
    "        right = n - 1\n",
    "        \n",
    "        while left < right:\n",
    "            current_sum = arr[i] + arr[left] + arr[right]\n",
    "            \n",
    "            if current_sum == K:\n",
    "                result.append((arr[i], arr[left], arr[right]))\n",
    "                \n",
    "                while left < right and arr[left] == arr[left + 1]:\n",
    "                    left += 1\n",
    "                while left < right and arr[right] == arr[right - 1]:\n",
    "                    right -= 1\n",
    "                left += 1\n",
    "                right -= 1\n",
    "            elif current_sum < K:\n",
    "                left += 1\n",
    "            else:\n",
    "                right -= 1\n",
    "    \n",
    "    return result\n",
    "\n",
    "\n",
    "arr = [1, 4, 2, -1, 3, 5, 0]\n",
    "K = 6\n",
    "triplets = find_triplets_with_sum(arr, K)\n",
    "print(\"Triplets with sum equal to\", K, \"are:\", triplets)\n"
   ]
  },
  {
   "cell_type": "code",
   "execution_count": 15,
   "id": "e7b4ba34-04b2-46fc-88f5-17c5e522f651",
   "metadata": {},
   "outputs": [
    {
     "name": "stdout",
     "output_type": "stream",
     "text": [
      "Pythagorean triplet found: (3, 4, 5)\n"
     ]
    }
   ],
   "source": [
    "''' Problem 7 : Given an array of n elements . Find three elements i, j, k in the array such that\n",
    "i * i + j * j = k*k.'''\n",
    "\n",
    "# ans\n",
    "\n",
    "def find_pythagorean_triplet(arr):\n",
    "    # Step 1: Compute the squares of all elements and store them in a hash set\n",
    "    squares = set()\n",
    "    for num in arr:\n",
    "        squares.add(num * num)\n",
    "    \n",
    "     \n",
    "    n = len(arr)\n",
    "    for i in range(n):\n",
    "        for j in range(i + 1, n):\n",
    "            sum_of_squares = arr[i] * arr[i] + arr[j] * arr[j]\n",
    "            if sum_of_squares in squares:\n",
    "                \n",
    "                k = int(sum_of_squares ** 0.5)\n",
    "                if k in arr:\n",
    "                    return (arr[i], arr[j], k)\n",
    "    \n",
    "    return None\n",
    "\n",
    "\n",
    "arr = [3, 4, 5, 6, 8, 10]\n",
    "triplet = find_pythagorean_triplet(arr)\n",
    "if triplet:\n",
    "    print(\"Pythagorean triplet found:\", triplet)\n",
    "else:\n",
    "    print(\"No Pythagorean triplet found.\")\n"
   ]
  },
  {
   "cell_type": "code",
   "execution_count": 17,
   "id": "778f50ab-4e78-4f97-9d24-04df60c8b40d",
   "metadata": {},
   "outputs": [
    {
     "name": "stdout",
     "output_type": "stream",
     "text": [
      "Majority element is: 4\n"
     ]
    }
   ],
   "source": [
    "'''Problem 8 : An element is a majority if it appears more than n/2 times. Give an algorithm takes an array of n\n",
    "element as argument and identifies a majority (if it exists).'''\n",
    "\n",
    "# ans\n",
    "\n",
    "def find_majority_element(arr):\n",
    "  \n",
    "    candidate = None\n",
    "    count = 0\n",
    "    \n",
    "    for num in arr:\n",
    "        if count == 0:\n",
    "            candidate = num\n",
    "        count += (1 if num == candidate else -1)\n",
    "    \n",
    "   \n",
    "    if candidate is not None:\n",
    "        count = 0\n",
    "        for num in arr:\n",
    "            if num == candidate:\n",
    "                count += 1\n",
    "        if count > len(arr) // 2:\n",
    "            return candidate\n",
    "    \n",
    "    return None\n",
    "\n",
    "\n",
    "arr = [3, 3, 4, 2, 4, 4, 2, 4, 4]\n",
    "majority_element = find_majority_element(arr)\n",
    "if majority_element is not None:\n",
    "    print(\"Majority element is:\", majority_element)\n",
    "else:\n",
    "    print(\"No majority element found.\")\n"
   ]
  },
  {
   "cell_type": "code",
   "execution_count": 18,
   "id": "68c41b11-585b-460d-9cec-31b01852be35",
   "metadata": {},
   "outputs": [
    {
     "name": "stdout",
     "output_type": "stream",
     "text": [
      "The row with the maximum number of 0's is: 3\n"
     ]
    }
   ],
   "source": [
    "''' Problem 9 : Given n × n matrix, and in each row all 1’s are followed by 0’s. Find the row with the maximum\n",
    "number of 0’s.'''\n",
    "\n",
    "# ans\n",
    "\n",
    "def row_with_max_zeros(matrix):\n",
    "    n = len(matrix)\n",
    "    max_zeros = -1\n",
    "    row_index = -1\n",
    "    \n",
    "  \n",
    "    j = n - 1\n",
    "    \n",
    "    for i in range(n):\n",
    "        \n",
    "        while j >= 0 and matrix[i][j] == 0:\n",
    "            j -= 1\n",
    "       \n",
    "        num_zeros = n - (j + 1)\n",
    "        \n",
    "        if num_zeros > max_zeros:\n",
    "            max_zeros = num_zeros\n",
    "            row_index = i\n",
    "    \n",
    "    return row_index\n",
    "\n",
    "\n",
    "matrix = [\n",
    "    [1, 1, 1, 0, 0],\n",
    "    [1, 1, 0, 0, 0],\n",
    "    [1, 0, 0, 0, 0],\n",
    "    [0, 0, 0, 0, 0]\n",
    "]\n",
    "\n",
    "row = row_with_max_zeros(matrix)\n",
    "print(f\"The row with the maximum number of 0's is: {row}\")\n"
   ]
  },
  {
   "cell_type": "code",
   "execution_count": 20,
   "id": "be00e728-03fc-48c5-9c8a-c65d2e6cf23a",
   "metadata": {},
   "outputs": [
    {
     "name": "stdout",
     "output_type": "stream",
     "text": [
      "Sorted array: [0, 0, 0, 0, 0, 1, 1, 1, 1, 1, 2, 2]\n"
     ]
    }
   ],
   "source": [
    "# Problem 10 : '''Sort an array of 0’s, 1’s and 2’s [or R’s, G’s and B’s]: Given an array A[] consisting of 0’s, 1’s and\n",
    "# 2’s, give an algorithm for sorting A[].The algorithm should put all 0’s first, then all 1’s and finally all 2’s at the\n",
    "# end. Example Input = {0,1,1,0,1,2,1,2,0,0,0,1}, Output = {0,0,0,0,0,1,1,1,1,1,2,2}'''\n",
    "\n",
    "# ans--\n",
    "\n",
    "\n",
    "def sort_012(arr):\n",
    "    low = 0\n",
    "    mid = 0\n",
    "    high = len(arr) - 1\n",
    "    \n",
    "    while mid <= high:\n",
    "        if arr[mid] == 0:\n",
    "           \n",
    "            arr[low], arr[mid] = arr[mid], arr[low]\n",
    "            low += 1\n",
    "            mid += 1\n",
    "        elif arr[mid] == 1:\n",
    "            mid += 1\n",
    "        else: \n",
    "            \n",
    "            arr[high], arr[mid] = arr[mid], arr[high]\n",
    "            high -= 1\n",
    "    \n",
    "    return arr\n",
    "\n",
    "\n",
    "arr = [0, 1, 1, 0, 1, 2, 1, 2, 0, 0, 0, 1]\n",
    "sorted_arr = sort_012(arr)\n",
    "print(\"Sorted array:\", sorted_arr)\n"
   ]
  },
  {
   "cell_type": "code",
   "execution_count": null,
   "id": "4d1f648c-af04-4276-aa5f-c016b03b7004",
   "metadata": {},
   "outputs": [],
   "source": []
  }
 ],
 "metadata": {
  "kernelspec": {
   "display_name": "Python 3 (ipykernel)",
   "language": "python",
   "name": "python3"
  },
  "language_info": {
   "codemirror_mode": {
    "name": "ipython",
    "version": 3
   },
   "file_extension": ".py",
   "mimetype": "text/x-python",
   "name": "python",
   "nbconvert_exporter": "python",
   "pygments_lexer": "ipython3",
   "version": "3.12.0"
  }
 },
 "nbformat": 4,
 "nbformat_minor": 5
}
